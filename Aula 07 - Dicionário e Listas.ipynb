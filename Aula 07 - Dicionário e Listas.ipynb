{
  "nbformat": 4,
  "nbformat_minor": 0,
  "metadata": {
    "colab": {
      "name": "Untitled9.ipynb",
      "provenance": [],
      "collapsed_sections": []
    },
    "kernelspec": {
      "name": "python3",
      "display_name": "Python 3"
    },
    "language_info": {
      "name": "python"
    }
  },
  "cells": [
    {
      "cell_type": "code",
      "metadata": {
        "colab": {
          "base_uri": "https://localhost:8080/"
        },
        "id": "I8Tu1ibHQtHU",
        "outputId": "a6c93953-2fcd-4215-b5d7-649d2b209b45"
      },
      "source": [
        "# Pequena lembrança sobre listas\n",
        "notas = [8.5, 7.5, 9.0, 6.5]\n",
        "print(notas)"
      ],
      "execution_count": 1,
      "outputs": [
        {
          "output_type": "stream",
          "text": [
            "[8.5, 7.5, 9.0, 6.5]\n"
          ],
          "name": "stdout"
        }
      ]
    },
    {
      "cell_type": "code",
      "metadata": {
        "colab": {
          "base_uri": "https://localhost:8080/"
        },
        "id": "g9tG9f7iTMuJ",
        "outputId": "6c6f00e8-d1ca-4080-afb0-051ad8a7c5ad"
      },
      "source": [
        "# operações com listas - média\n",
        "# sum() faz a soma\n",
        "# len() calcula o tamanho da lista\n",
        "media = sum(notas) / len(notas)\n",
        "print('Média:', media)"
      ],
      "execution_count": 3,
      "outputs": [
        {
          "output_type": "stream",
          "text": [
            "Média: 7.875\n"
          ],
          "name": "stdout"
        }
      ]
    },
    {
      "cell_type": "code",
      "metadata": {
        "colab": {
          "base_uri": "https://localhost:8080/"
        },
        "id": "bIPfDTacTmE_",
        "outputId": "a0a69b14-960b-4731-b774-303a49246099"
      },
      "source": [
        "# 1 - Mostra a maior e a menor nota da lista de notas\n",
        "# 2 - Mostrar as notas ordenadas uma depois da outra\n",
        "# Tempo: 5 minutos\n",
        "\n",
        "# Pensando... primeira coisa é colocar em ordem as coisas\n",
        "notas = [8.5, 7.5, 9.0, 6.5]\n",
        "notas.sort()\n",
        "print(notas)\n",
        "print('Maior:', max(notas))\n",
        "print('Menor:', min(notas))"
      ],
      "execution_count": 6,
      "outputs": [
        {
          "output_type": "stream",
          "text": [
            "[6.5, 7.5, 8.5, 9.0]\n",
            "Maior: 9.0\n",
            "Menor: 6.5\n"
          ],
          "name": "stdout"
        }
      ]
    },
    {
      "cell_type": "code",
      "metadata": {
        "colab": {
          "base_uri": "https://localhost:8080/"
        },
        "id": "54HXSjJkV5j5",
        "outputId": "8f990d37-b225-4620-f7fe-e2b7f5acb0df"
      },
      "source": [
        "# 2 - Mostrar as notas ordenadas uma depois da outra\n",
        "notas = [8.5, 7.5, 9.0, 6.5]\n",
        "\n",
        "# for faz uma repetição\n",
        "for nota in notas:\n",
        "    print(nota)"
      ],
      "execution_count": 7,
      "outputs": [
        {
          "output_type": "stream",
          "text": [
            "6.5\n",
            "7.5\n",
            "8.5\n",
            "9.0\n"
          ],
          "name": "stdout"
        }
      ]
    },
    {
      "cell_type": "code",
      "metadata": {
        "colab": {
          "base_uri": "https://localhost:8080/"
        },
        "id": "3XNqozYPWP-n",
        "outputId": "23e37b9f-0210-4ee4-841e-faf39b9f9443"
      },
      "source": [
        "# Índice\n",
        "for nota in notas:\n",
        "    print(notas.index(nota), nota)"
      ],
      "execution_count": 10,
      "outputs": [
        {
          "output_type": "stream",
          "text": [
            "0 6.5\n",
            "1 7.5\n",
            "2 8.5\n",
            "3 9.0\n"
          ],
          "name": "stdout"
        }
      ]
    },
    {
      "cell_type": "code",
      "metadata": {
        "colab": {
          "base_uri": "https://localhost:8080/"
        },
        "id": "fipZm93PZaj4",
        "outputId": "e4ab2839-b5ce-4590-9277-b3ab31b024d1"
      },
      "source": [
        " # Mostrando o índice e o valor de um item em uma lista mais profissional\n",
        " for indice, nota in enumerate(notas):\n",
        "     print(indice, '=>', nota)"
      ],
      "execution_count": 12,
      "outputs": [
        {
          "output_type": "stream",
          "text": [
            "0 => 6.5\n",
            "1 => 7.5\n",
            "2 => 8.5\n",
            "3 => 9.0\n"
          ],
          "name": "stdout"
        }
      ]
    },
    {
      "cell_type": "code",
      "metadata": {
        "id": "ImkmHagyaKL_"
      },
      "source": [
        "# Desafio......\n",
        "# A = 8.5\n",
        "# B = 7.5\n",
        "# C = 9.0\n",
        "# D = 6.5\n",
        "# E = 6.5\n",
        "# F = 8.5\n",
        "# G = 9.5\n",
        "# notas = [8.5, 7.5, 9.0, 6.5]"
      ],
      "execution_count": null,
      "outputs": []
    },
    {
      "cell_type": "markdown",
      "metadata": {
        "id": "BbwdYLEbdKNK"
      },
      "source": [
        "# Dicionários\n",
        "São estruturas semelhantes as listas, porém não são ordenados e são compostos por: chave:valor"
      ]
    },
    {
      "cell_type": "code",
      "metadata": {
        "id": "KT7AvUgHdL6r"
      },
      "source": [
        "# chave : valor - key:value\n",
        "# chave - é o identificador do valor\n",
        "# valor - é o dado em si, ou seja, o que ele de fato\n",
        "\n",
        "aluno_1 = {'ra': 123, 'nome': 'Edson Melo', 'curso': 'Ciências da Computação'}\n",
        "aluno_2 = {'ra': 321, 'nome': 'tio Patinhas', 'curso': 'Economia'}"
      ],
      "execution_count": 14,
      "outputs": []
    },
    {
      "cell_type": "code",
      "metadata": {
        "colab": {
          "base_uri": "https://localhost:8080/"
        },
        "id": "6_0Bfj7AevEF",
        "outputId": "452d1d62-bd30-49ed-bbd7-85e740621a13"
      },
      "source": [
        "# Mostrando uma chave isoladamente\n",
        "print(aluno_1['nome'], aluno_2['nome'])"
      ],
      "execution_count": 16,
      "outputs": [
        {
          "output_type": "stream",
          "text": [
            "Edson Melo tio Patinhas\n"
          ],
          "name": "stdout"
        }
      ]
    },
    {
      "cell_type": "code",
      "metadata": {
        "colab": {
          "base_uri": "https://localhost:8080/"
        },
        "id": "sNInr4EbfUoS",
        "outputId": "937f34b1-f404-4cf8-a095-1caee980ea1a"
      },
      "source": [
        "# Recuperando dados pela chave usando um método do dicionário\n",
        "print(aluno_1.get('nome'))"
      ],
      "execution_count": 17,
      "outputs": [
        {
          "output_type": "stream",
          "text": [
            "Edson Melo\n"
          ],
          "name": "stdout"
        }
      ]
    },
    {
      "cell_type": "code",
      "metadata": {
        "colab": {
          "base_uri": "https://localhost:8080/"
        },
        "id": "yGtgRS4pf3GV",
        "outputId": "a36a6796-f32b-4f8d-f995-e5f12a535ffa"
      },
      "source": [
        "# Treinando\n",
        "# Mostrar os valores para cada chave do dicionário\n",
        "print(aluno_1.get('ra'))\n",
        "print(aluno_1.get('nome'))\n",
        "print(aluno_1.get('curso'))"
      ],
      "execution_count": 18,
      "outputs": [
        {
          "output_type": "stream",
          "text": [
            "123\n",
            "Edson Melo\n",
            "Ciências da Computação\n"
          ],
          "name": "stdout"
        }
      ]
    },
    {
      "cell_type": "code",
      "metadata": {
        "colab": {
          "base_uri": "https://localhost:8080/"
        },
        "id": "2yoA4R2Dgypw",
        "outputId": "0dba6021-2ecc-46ba-e4bb-f8d0c9e6433a"
      },
      "source": [
        "# Vamos usar o \"célebro\", #SQN é o cérebro!!!!!\n",
        "# Índice 0          1                       2\n",
        "aluno = {'ra': 321, 'nome': 'tio Patinhas', 'curso': 'Economia'}\n",
        "\n",
        "# Como mostrar todos os valores das chaves?????\n",
        "chaves = aluno.keys() # pega todas as chaves do dicionário\n",
        "for chave in chaves:\n",
        "    print(chave, aluno.get(chave))"
      ],
      "execution_count": 20,
      "outputs": [
        {
          "output_type": "stream",
          "text": [
            "ra 321\n",
            "nome tio Patinhas\n",
            "curso Economia\n"
          ],
          "name": "stdout"
        }
      ]
    },
    {
      "cell_type": "code",
      "metadata": {
        "colab": {
          "base_uri": "https://localhost:8080/"
        },
        "id": "59UB7sG_iRLM",
        "outputId": "d99594c3-dcb0-469e-ad38-22310fca66c9"
      },
      "source": [
        "aluno = {'ra': 321, 'nome': 'tio Patinhas', 'curso': 'Economia'}\n",
        "for chave in aluno.keys():\n",
        "    print(chave, aluno.get(chave))"
      ],
      "execution_count": 21,
      "outputs": [
        {
          "output_type": "stream",
          "text": [
            "ra 321\n",
            "nome tio Patinhas\n",
            "curso Economia\n"
          ],
          "name": "stdout"
        }
      ]
    },
    {
      "cell_type": "code",
      "metadata": {
        "colab": {
          "base_uri": "https://localhost:8080/"
        },
        "id": "XlWgTpWCmCkj",
        "outputId": "a27db5be-2129-40bf-9838-f5bbddaeb305"
      },
      "source": [
        "# Hummm, tem outro jeito\n",
        "aluno = {'ra': 321, 'nome': 'tio Patinhas', 'curso': 'Economia'}\n",
        "for chave, valor in aluno.items():\n",
        "    print(chave, valor)"
      ],
      "execution_count": 23,
      "outputs": [
        {
          "output_type": "stream",
          "text": [
            "ra 321\n",
            "nome tio Patinhas\n",
            "curso Economia\n"
          ],
          "name": "stdout"
        }
      ]
    },
    {
      "cell_type": "code",
      "metadata": {
        "colab": {
          "base_uri": "https://localhost:8080/"
        },
        "id": "dAdIrRw0mUn4",
        "outputId": "97fe65c6-5703-4d36-bdaa-0db25561f293"
      },
      "source": [
        "# Vamos treinar\n",
        "# rg, nome, cpf, idade\n",
        "# Mostrar somente os valores das chaves utilizando um laço\n",
        "pessoa = {\n",
        "    'rg': 123456,\n",
        "    'nome': 'José Maria',\n",
        "    'idade': 26\n",
        "    }\n",
        "\n",
        "# Esse código mostra a POSIÇÃO das chaves (Código da Ana)\n",
        "for indice, valor in enumerate(pessoa):\n",
        "  print(indice, '=>', valor)\n",
        "print('Vamos ver o que tem aqui em pessoa:', pessoa) # idade\n",
        "\n",
        "valores = pessoa.keys() # pessoa aqui nesse ponto não é mais um dicionário\n",
        "for valor in pessoa:\n",
        "    print(pessoa.get(valor))"
      ],
      "execution_count": 32,
      "outputs": [
        {
          "output_type": "stream",
          "text": [
            "0 => rg\n",
            "1 => nome\n",
            "2 => idade\n",
            "Vamos ver o que tem aqui em pessoa: {'rg': 123456, 'nome': 'José Maria', 'idade': 26}\n",
            "123456\n",
            "José Maria\n",
            "26\n"
          ],
          "name": "stdout"
        }
      ]
    },
    {
      "cell_type": "code",
      "metadata": {
        "colab": {
          "base_uri": "https://localhost:8080/"
        },
        "id": "Mpt4TihxnkWU",
        "outputId": "80e472e5-d58d-4543-8dc9-7e77f6ebc979"
      },
      "source": [
        "# operações com dicionários\n",
        "# Adicionar, alterar e remover valores (key:value)\n",
        "\n",
        "# Incluir uma valor\n",
        "aluno['AV1'] = 8.0\n",
        "print(aluno)"
      ],
      "execution_count": 33,
      "outputs": [
        {
          "output_type": "stream",
          "text": [
            "{'ra': 321, 'nome': 'tio Patinhas', 'curso': 'Economia', 'AV1': 8.0}\n"
          ],
          "name": "stdout"
        }
      ]
    },
    {
      "cell_type": "code",
      "metadata": {
        "colab": {
          "base_uri": "https://localhost:8080/"
        },
        "id": "J1tDQVlIs7k0",
        "outputId": "fe1479bc-98b4-41b5-f852-7cd1d28e698c"
      },
      "source": [
        "# Outra forma - usando o comando update()\n",
        "# Se o valor não existir, será inserido, senão atualizado\n",
        "# Incluindo....\n",
        "aluno.update({'AV2': 7.5})\n",
        "print(aluno)"
      ],
      "execution_count": 34,
      "outputs": [
        {
          "output_type": "stream",
          "text": [
            "{'ra': 321, 'nome': 'tio Patinhas', 'curso': 'Economia', 'AV1': 8.0, 'AV2': 7.5}\n"
          ],
          "name": "stdout"
        }
      ]
    },
    {
      "cell_type": "code",
      "metadata": {
        "colab": {
          "base_uri": "https://localhost:8080/"
        },
        "id": "SRe9BTb8tVaH",
        "outputId": "4aa95ef7-09d8-468c-e18a-93aff5d02d4e"
      },
      "source": [
        "# Vamos atualizar\n",
        "aluno.update({'AV2': 9.5})\n",
        "print(aluno)"
      ],
      "execution_count": 35,
      "outputs": [
        {
          "output_type": "stream",
          "text": [
            "{'ra': 321, 'nome': 'tio Patinhas', 'curso': 'Economia', 'AV1': 8.0, 'AV2': 9.5}\n"
          ],
          "name": "stdout"
        }
      ]
    },
    {
      "cell_type": "code",
      "metadata": {
        "colab": {
          "base_uri": "https://localhost:8080/"
        },
        "id": "948XOn9vteQC",
        "outputId": "06d1efe2-6349-4603-c015-06628e6460a8"
      },
      "source": [
        "aluno.update({'AV1': 6.7, 'AV2': 5.5})\n",
        "print(aluno)"
      ],
      "execution_count": 41,
      "outputs": [
        {
          "output_type": "stream",
          "text": [
            "{'ra': 321, 'nome': 'tio Patinhas', 'curso': 'Economia', 'AV1': 6.7, 'AV2': 5.5}\n"
          ],
          "name": "stdout"
        }
      ]
    },
    {
      "cell_type": "code",
      "metadata": {
        "colab": {
          "base_uri": "https://localhost:8080/"
        },
        "id": "j8QUaF_ctn_t",
        "outputId": "94888173-ca66-43ed-ee45-e9198cf2a5a1"
      },
      "source": [
        "# Remover um elemento do dicionário\n",
        "\n",
        "# Primeira forma\n",
        "del aluno['AV1']\n",
        "print(aluno)"
      ],
      "execution_count": 42,
      "outputs": [
        {
          "output_type": "stream",
          "text": [
            "{'ra': 321, 'nome': 'tio Patinhas', 'curso': 'Economia', 'AV2': 5.5}\n"
          ],
          "name": "stdout"
        }
      ]
    },
    {
      "cell_type": "code",
      "metadata": {
        "colab": {
          "base_uri": "https://localhost:8080/"
        },
        "id": "G1wfQwRculN-",
        "outputId": "a84e2a4f-5112-4ef5-e67a-1f9055bd0051"
      },
      "source": [
        "# Segunda forma\n",
        "aluno.pop('AV2')\n",
        "print(aluno)"
      ],
      "execution_count": 43,
      "outputs": [
        {
          "output_type": "stream",
          "text": [
            "{'ra': 321, 'nome': 'tio Patinhas', 'curso': 'Economia'}\n"
          ],
          "name": "stdout"
        }
      ]
    },
    {
      "cell_type": "code",
      "metadata": {
        "colab": {
          "base_uri": "https://localhost:8080/"
        },
        "id": "pKrWivGYu1D7",
        "outputId": "896c650a-1cc1-4716-d63d-b5130050890a"
      },
      "source": [
        "# Como localizar um valor no dicionário?\n",
        "# Vamos pesquisar pela chave\n",
        "aluno.update({'AV1': 6.7, 'AV2': 5.5})\n",
        "\n",
        "print('AV1' in aluno) # True\n",
        "print('AV3' in aluno) # False"
      ],
      "execution_count": 45,
      "outputs": [
        {
          "output_type": "stream",
          "text": [
            "True\n",
            "False\n"
          ],
          "name": "stdout"
        }
      ]
    },
    {
      "cell_type": "code",
      "metadata": {
        "colab": {
          "base_uri": "https://localhost:8080/"
        },
        "id": "_o2w2UWXvRcV",
        "outputId": "b161a817-6e63-4c2b-ede9-801726639ea0"
      },
      "source": [
        "# Melhorando nossa estrutura de notas\n",
        "# Integração de dicionário com listas\n",
        "aluno = {\n",
        "    'ra': 123, \n",
        "    'nome': 'Edson Melo',\n",
        "    'notas': [\n",
        "              {'AV1': 5.5, 'AV2': 7.5, 'AV3': 9.5},\n",
        "              {'AV1': 8.5, 'AV2': 9.5, 'AV3': 5.5},\n",
        "            ]\n",
        "    }\n",
        "print(aluno)"
      ],
      "execution_count": 46,
      "outputs": [
        {
          "output_type": "stream",
          "text": [
            "{'ra': 123, 'nome': 'Edson Melo', 'notas': [{'AV1': 5.5, 'AV2': 7.5, 'AV3': 9.5}, {'AV1': 8.5, 'AV2': 9.5, 'AV3': 5.5}]}\n"
          ],
          "name": "stdout"
        }
      ]
    },
    {
      "cell_type": "code",
      "metadata": {
        "colab": {
          "base_uri": "https://localhost:8080/"
        },
        "id": "CVVyJawQwLW-",
        "outputId": "84df091f-6109-4158-b09d-f9a6f8450788"
      },
      "source": [
        "# Mostrando apenas as notas\n",
        "print(aluno.get('notas'))"
      ],
      "execution_count": 47,
      "outputs": [
        {
          "output_type": "stream",
          "text": [
            "[{'AV1': 5.5, 'AV2': 7.5, 'AV3': 9.5}, {'AV1': 8.5, 'AV2': 9.5, 'AV3': 5.5}]\n"
          ],
          "name": "stdout"
        }
      ]
    },
    {
      "cell_type": "code",
      "metadata": {
        "colab": {
          "base_uri": "https://localhost:8080/"
        },
        "id": "VHeNDoIawUzS",
        "outputId": "dd8e2a7d-a06f-487d-b513-7cd9884f02b8"
      },
      "source": [
        "# Criando uma lista de dicionários\n",
        "alunos = []\n",
        "\n",
        "# incluindo dicionários na lista\n",
        "alunos.append({'id': 123, 'nome': 'tio Patinhas'})\n",
        "alunos.append({'id': 321, 'nome': 'Zé Carioca'})\n",
        "\n",
        "print(alunos)"
      ],
      "execution_count": 48,
      "outputs": [
        {
          "output_type": "stream",
          "text": [
            "[{'id': 123, 'nome': 'tio Patinhas'}, {'id': 321, 'nome': 'Zé Carioca'}]\n"
          ],
          "name": "stdout"
        }
      ]
    },
    {
      "cell_type": "code",
      "metadata": {
        "colab": {
          "base_uri": "https://localhost:8080/"
        },
        "id": "LNcWkykqw2yN",
        "outputId": "8d28de52-bfff-4777-e5f5-906ee65fa449"
      },
      "source": [
        "# Mostrando os dicionários da lista\n",
        "for dicionario in alunos:\n",
        "    print(dicionario)"
      ],
      "execution_count": 49,
      "outputs": [
        {
          "output_type": "stream",
          "text": [
            "{'id': 123, 'nome': 'tio Patinhas'}\n",
            "{'id': 321, 'nome': 'Zé Carioca'}\n"
          ],
          "name": "stdout"
        }
      ]
    },
    {
      "cell_type": "markdown",
      "metadata": {
        "id": "fisD0jwG5ELi"
      },
      "source": [
        "1. Utilizandos os conceitos vistos nesta aula e na aula anterior, crie um dicionário com 5 alunos que mostre:<br>\n",
        "<ul>\n",
        "    <li>Maior nota</li>\n",
        "    <li>Menor nota</li>\n",
        "    <li>Média dos alunos</li>\n",
        "</ul>"
      ]
    },
    {
      "cell_type": "markdown",
      "metadata": {
        "id": "OvT1usVe5IP0"
      },
      "source": [
        "2. Utilizando os mesmos dados, mostre os resultados de forma individual para cada curso.\n",
        "3. **Desafio**: Desenvolva um algoritmo que permita mostrar **de uma só vez** os resultados para os respectivos cursos"
      ]
    },
    {
      "cell_type": "code",
      "metadata": {
        "id": "bSXT6pNFw-hv"
      },
      "source": [
        "alunos = []\n",
        "alunos.append({'nome': 'Aluno 01', 'curso': 'Ciências da Computação', 'AV1':8 })\n",
        "alunos.append({'nome': 'Aluno 02', 'curso': 'Sistemas de Informação', 'AV1':7 })\n",
        "alunos.append({'nome': 'Aluno 03', 'curso': 'Sistemas de Informação', 'AV1':6 })\n",
        "alunos.append({'nome': 'Aluno 04', 'curso': 'Sistemas de Informação', 'AV1':6 })\n",
        "alunos.append({'nome': 'Aluno 05', 'curso': 'Sistemas de Informação', 'AV1':6 })\n",
        "alunos.append({'nome': 'Aluno 06', 'curso': 'Análise e Desenvolvimento de Sistemas', 'AV1':7 })\n",
        "alunos.append({'nome': 'Aluno 07', 'curso': 'Análise e Desenvolvimento de Sistemas', 'AV1':9 })\n",
        "alunos.append({'nome': 'Aluno 08', 'curso': 'Ciências da Computação', 'AV1':10 })\n",
        "alunos.append({'nome': 'Aluno 09', 'curso': 'Ciências da Computação', 'AV1':10 })\n",
        "alunos.append({'nome': 'Aluno 10', 'curso': 'Ciências da Computação', 'AV1':4 })\n",
        "alunos.append({'nome': 'Aluno 11', 'curso': 'Análise e Desenvolvimento de Sistemas', 'AV1':5 })\n",
        "alunos.append({'nome': 'Aluno 11', 'curso': 'Análise e Desenvolvimento de Sistemas', 'AV1':5 })\n",
        "alunos.append({'nome': 'Aluno 12', 'curso': 'Análise e Desenvolvimento de Sistemas', 'AV1':9 })\n",
        "alunos.append({'nome': 'Aluno 13', 'curso': 'Análise e Desenvolvimento de Sistemas', 'AV1':9 })\n",
        "alunos.append({'nome': 'Aluno 14', 'curso': 'Ciências da Computação', 'AV1': 7})\n",
        "alunos.append({'nome': 'Aluno 15', 'curso': 'Análise e Desenvolvimento de Sistemas', 'AV1':7})\n",
        "alunos.append({'nome': 'Aluno 16', 'curso': 'Ciências da Computação', 'AV1': 6})\n",
        "alunos.append({'nome': 'Aluno 17', 'curso': 'Análise e Desenvolvimento de Sistemas', 'AV1':8 })\n",
        "alunos.append({'nome': 'Aluno 18', 'curso': 'Ciências da Computação', 'AV1':4 })\n",
        "alunos.append({'nome': 'Aluno 19', 'curso': 'Sistemas de Informação', 'AV1':2 })\n",
        "alunos.append({'nome': 'Aluno 20', 'curso': 'Análise e Desenvolvimento de Sistemas', 'AV1':9 })"
      ],
      "execution_count": null,
      "outputs": []
    }
  ]
}