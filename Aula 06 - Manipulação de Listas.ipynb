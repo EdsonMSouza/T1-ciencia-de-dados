{
 "cells": [
  {
   "cell_type": "markdown",
   "metadata": {},
   "source": [
    "## **Aula 06** - Manipulação de Listas (***list***)"
   ]
  },
  {
   "cell_type": "code",
   "execution_count": null,
   "metadata": {
    "colab": {
     "base_uri": "https://localhost:8080/"
    },
    "id": "2_AVihlzNO5t",
    "outputId": "7f3ed6a5-bd0b-4db9-d035-b4661e88640c"
   },
   "outputs": [],
   "source": [
    "# Retomando listas\n",
    "lista = ['Uninove', 123, 12.35, True]\n",
    "lista"
   ]
  },
  {
   "cell_type": "code",
   "execution_count": null,
   "metadata": {
    "colab": {
     "base_uri": "https://localhost:8080/",
     "height": 35
    },
    "id": "AfGlUAEBPCvU",
    "outputId": "36821fe7-c840-437e-98c5-68574dc64ec2"
   },
   "outputs": [],
   "source": [
    "# Acessando um item da lista pelo índice\n",
    "lista[0]"
   ]
  },
  {
   "cell_type": "code",
   "execution_count": null,
   "metadata": {
    "colab": {
     "base_uri": "https://localhost:8080/"
    },
    "id": "mOgg-WXyPOzJ",
    "outputId": "c8102899-fadb-4279-961c-8a4eed801442"
   },
   "outputs": [],
   "source": [
    "# Percorrendo uma lista com laço de repetição\n",
    "for item in lista:\n",
    "    print(item)"
   ]
  },
  {
   "cell_type": "code",
   "execution_count": null,
   "metadata": {
    "colab": {
     "base_uri": "https://localhost:8080/"
    },
    "id": "D_mh2xFNPcAH",
    "outputId": "52200e28-2330-41a7-8c0e-73437bb3dfad"
   },
   "outputs": [],
   "source": [
    "# Percorrendo uma lista com laço de repetição e mostrando o índice\n",
    "for item in lista:\n",
    "    print('Posição:', lista.index(item), item)"
   ]
  },
  {
   "cell_type": "code",
   "execution_count": null,
   "metadata": {
    "colab": {
     "base_uri": "https://localhost:8080/"
    },
    "id": "d6W_4NcUPrxJ",
    "outputId": "6c8c860c-591c-4168-935a-e0527929241f"
   },
   "outputs": [],
   "source": [
    "# Resumo de criação e acesso aos itens de uma lista\n",
    "cursos = ['TADS', 'Ciências da Computação', 'Medicina', 'Economia']\n",
    "for item in cursos:\n",
    "    print(item)"
   ]
  },
  {
   "cell_type": "code",
   "execution_count": null,
   "metadata": {
    "colab": {
     "base_uri": "https://localhost:8080/"
    },
    "id": "z6B8s-deQSuw",
    "outputId": "89f94e2b-d47c-40a8-ea7b-d839701b37c4"
   },
   "outputs": [],
   "source": [
    "# Verificar a existência de um determinado item em uma lista\n",
    "# Primeira forma - irá testar todos os itens\n",
    "\n",
    "busca = 'Medicina'\n",
    "for curso in cursos:\n",
    "    if (curso == busca):\n",
    "        print('{} esta na lista'.format(busca))\n",
    "    else:\n",
    "        print('{} não está na lista'.format(busca))"
   ]
  },
  {
   "cell_type": "code",
   "execution_count": null,
   "metadata": {
    "colab": {
     "base_uri": "https://localhost:8080/"
    },
    "id": "Axgf8WB_RV6q",
    "outputId": "96f9348c-34d5-4c08-c406-90b76e55dc93"
   },
   "outputs": [],
   "source": [
    "# Verificar a existência de um determinado item em uma lista\n",
    "# Segunda forma - retornará apenas uma ocorrência\n",
    "cursos = ['TADS', 'Ciências da Computação', 'Medicina', 'Economia']\n",
    "\n",
    "busca = 'Medicina'\n",
    "\n",
    "if busca in cursos:\n",
    "    print('{} está na lista'.format(busca))\n",
    "else:\n",
    "    print('{} NÃO está na lista'.format(busca))"
   ]
  },
  {
   "cell_type": "code",
   "execution_count": null,
   "metadata": {},
   "outputs": [],
   "source": [
    "# Como transformar uma lista em Caixa Baixatras minúsculas) - lower()\n",
    "cursos = ['TADS', 'Ciências da Computação', 'Medicina', 'Economia']\n",
    "\n",
    "# sobrescrevendo a variável cursos\n",
    "cursos = [curso.lower() for curso in cursos]\n",
    "print(cursos)"
   ]
  },
  {
   "cell_type": "code",
   "execution_count": null,
   "metadata": {
    "colab": {
     "base_uri": "https://localhost:8080/"
    },
    "id": "DTxgA2L8SnXy",
    "outputId": "718e317f-8d0c-4d4c-fe9a-8a0f9bedd052"
   },
   "outputs": [],
   "source": [
    "# Como transformar uma lista em Caixa Alta (letras maiúsculas) - upper()\n",
    "cursos = ['TADS', 'Ciências da Computação', 'Medicina', 'Economia']\n",
    "\n",
    "# sobrescrevendo a variável cursos\n",
    "cursos = [curso.upper() for curso in cursos]\n",
    "print(cursos)"
   ]
  },
  {
   "cell_type": "code",
   "execution_count": null,
   "metadata": {
    "colab": {
     "base_uri": "https://localhost:8080/",
     "height": 35
    },
    "id": "sMKp4y6eUbjf",
    "outputId": "c498ae80-3fca-4993-af31-3127801dabea"
   },
   "outputs": [],
   "source": [
    "# Converter um texto para caixa alta\n",
    "print('Edson Melo de Souza'.upper())"
   ]
  },
  {
   "cell_type": "code",
   "execution_count": null,
   "metadata": {
    "colab": {
     "base_uri": "https://localhost:8080/"
    },
    "id": "mWOywwtxUppW",
    "outputId": "a7926e31-5f16-4c3d-ef76-c29ed0b57843"
   },
   "outputs": [],
   "source": [
    "# Adicionar elementos em uma lista - append (sempre coloca no final da lista)\n",
    "\n",
    "# antes de adicionar\n",
    "print(cursos)\n",
    "\n",
    "cursos.append('CONTABILIDADE')\n",
    "# depois de adicionar\n",
    "print(cursos)"
   ]
  },
  {
   "cell_type": "code",
   "execution_count": null,
   "metadata": {
    "colab": {
     "base_uri": "https://localhost:8080/"
    },
    "id": "TxlNpR9DWdGd",
    "outputId": "bbbd63e7-d40d-4122-9fc0-8daacf3ef3ce"
   },
   "outputs": [],
   "source": [
    "# Adicionar um item no início da lista - insert(índice, valor)\n",
    "cursos.insert(0, 'ODONTO')\n",
    "cursos"
   ]
  },
  {
   "cell_type": "code",
   "execution_count": null,
   "metadata": {
    "colab": {
     "base_uri": "https://localhost:8080/"
    },
    "id": "NHWY955mXR_M",
    "outputId": "1192efbf-12e5-4a03-e446-9dcf2738ce2a"
   },
   "outputs": [],
   "source": [
    "# Adicionar pelo índice, encaixa no meio da lista\n",
    "cursos.insert(1, 'QUIMICA')\n",
    "cursos"
   ]
  },
  {
   "cell_type": "code",
   "execution_count": null,
   "metadata": {
    "colab": {
     "base_uri": "https://localhost:8080/"
    },
    "id": "c43S3g9GXoww",
    "outputId": "605901c6-9d0f-4cd4-91e9-51d2037b3918"
   },
   "outputs": [],
   "source": [
    "# Remover um ite da lista\n",
    "cursos.remove('ECONOMIA')\n",
    "cursos"
   ]
  },
  {
   "cell_type": "code",
   "execution_count": null,
   "metadata": {
    "colab": {
     "base_uri": "https://localhost:8080/"
    },
    "id": "Q3alAYw9Ymd1",
    "outputId": "82299799-0641-44e4-8419-5028cd2ecad4"
   },
   "outputs": [],
   "source": [
    "# Alterar o valor de um item\n",
    "cursos[1] = 'ANALISE DE SISTEMAS'\n",
    "cursos"
   ]
  },
  {
   "cell_type": "code",
   "execution_count": null,
   "metadata": {
    "colab": {
     "base_uri": "https://localhost:8080/"
    },
    "id": "5ofT08XyY8wg",
    "outputId": "7facb25f-a2b7-409e-c402-d25182d2fdc5"
   },
   "outputs": [],
   "source": [
    "# Ordenar uma lista -> ordem crescente\n",
    "cursos.sort()\n",
    "cursos"
   ]
  },
  {
   "cell_type": "code",
   "execution_count": null,
   "metadata": {
    "colab": {
     "base_uri": "https://localhost:8080/"
    },
    "id": "qZp-5gRAZmfR",
    "outputId": "4bc51dbe-8643-4e1c-aea1-e193af0a6d44"
   },
   "outputs": [],
   "source": [
    "# Ordenar uma lista -> ordem decrescente\n",
    "cursos.sort() # primeiro devemos ordenar em ordem crescente\n",
    "print(cursos)\n",
    "\n",
    "cursos.reverse() # agora vamos inverter a ordem da lista\n",
    "print(cursos)"
   ]
  },
  {
   "cell_type": "code",
   "execution_count": null,
   "metadata": {
    "colab": {
     "base_uri": "https://localhost:8080/"
    },
    "id": "2mMyUk5vaEe2",
    "outputId": "d92ca8eb-0be6-4791-8468-c7f0f7022c09"
   },
   "outputs": [],
   "source": [
    "# Descobrir o tamanho de uma lista, ou sej, quantos elemetnos existem na lista\n",
    "len(cursos)\n",
    "cursos.append('BIOMEDICINA')\n",
    "cursos"
   ]
  },
  {
   "cell_type": "code",
   "execution_count": null,
   "metadata": {
    "colab": {
     "base_uri": "https://localhost:8080/"
    },
    "id": "cU02NgGvaZ0P",
    "outputId": "c70d00a9-200d-4cae-948d-8b932dc3f462"
   },
   "outputs": [],
   "source": [
    "# Como contar itens dentro de uma lista\n",
    "cursos.count('BIOMEDICINA')"
   ]
  },
  {
   "cell_type": "code",
   "execution_count": null,
   "metadata": {
    "colab": {
     "base_uri": "https://localhost:8080/"
    },
    "id": "S-0Uf2icbDPU",
    "outputId": "4a28d924-fc7e-4998-9d9c-b98d48908da4"
   },
   "outputs": [],
   "source": [
    "# Vamos treinar\n",
    "# Usando os conceitos de listas:\n",
    "# 1 - Criar uma lista com 10 notas\n",
    "# 2 - Incluir 3 notas - append()\n",
    "# 3 - Remover 2 notas - remove()\n",
    "# 4 - Mostrar a menor e a maior nota da lista - cri cri cri\n",
    "# 5 - Calcular a média da lista - easy\n",
    "# Tempo: 15 minutos (10:25)\n",
    "# Obs.: não pode usar: max(), min() e sum()\n",
    "\n",
    "# criação da lista de notas\n",
    "notas = [6.5, 8.0, 7.2, 8.4, 10.0, 9.5, 8.75, 3.25, 6.2, 4.78]\n",
    "\n",
    "# incluindo notas\n",
    "notas.append(3.28)\n",
    "notas.append(7.44)\n",
    "notas.append(5.8)\n",
    "notas.append(6.8)\n",
    "\n",
    "# excluindo notas\n",
    "notas.remove(9.5)\n",
    "notas.remove(6.2)\n",
    "\n",
    "# vou ordenar a lista\n",
    "notas.sort()\n",
    "print(notas)\n",
    "\n",
    "# mostrando a menor nota\n",
    "print('Menor nota: ', notas[0])\n",
    "\n",
    "# mostrando a maior nota\n",
    "print('Maior nota: ', notas[len(notas)-1])\n",
    "\n",
    "# calcular a média\n",
    "soma = 0\n",
    "for nota in notas:\n",
    "  soma += nota\n",
    "\n",
    "print('A média é:', soma / len(notas)) # len calcula o tamanho da lista"
   ]
  },
  {
   "cell_type": "markdown",
   "metadata": {
    "id": "DK_GItWamvxk"
   },
   "source": [
    "# **Funções em Python**\n",
    "\n",
    "<code>\n",
    "def nome_da_funcao(parametros):\n",
    "\n",
    "  corpo da função\n",
    "</code>"
   ]
  },
  {
   "cell_type": "code",
   "execution_count": null,
   "metadata": {
    "id": "SoclefoYlsMS"
   },
   "outputs": [],
   "source": [
    "def media(notas):\n",
    "    return sum(notas) / len(notas)"
   ]
  },
  {
   "cell_type": "code",
   "execution_count": null,
   "metadata": {
    "colab": {
     "base_uri": "https://localhost:8080/"
    },
    "id": "R8Myuix6nSd6",
    "outputId": "d050717b-6ad1-49d2-a40f-a70f4156f5f2"
   },
   "outputs": [],
   "source": [
    "# Vamos resolver com mais elegância\n",
    "notas = [6.5, 8.0, 7.2, 8.4, 10.0, 9.5, 8.75, 3.25, 6.2, 4.78]\n",
    "print('Menor nota: ', min(notas) )\n",
    "print('Maior nota: ', max(notas) )\n",
    "print('Média: ', media(notas) )"
   ]
  },
  {
   "cell_type": "code",
   "execution_count": null,
   "metadata": {
    "id": "NuXSDv8qnWgE"
   },
   "outputs": [],
   "source": [
    "# função que ordena e coloca em caixa alta e mostra os valores\n",
    "def showLista(lista):\n",
    "  lista.sort() # ordenando a lista\n",
    "  for item in lista:\n",
    "    print(item.upper())"
   ]
  },
  {
   "cell_type": "code",
   "execution_count": null,
   "metadata": {
    "id": "HpgT-iFfrnI8"
   },
   "outputs": [],
   "source": [
    "def ordenaLista(lista):\n",
    "  lista.sort() # ordenando a lista\n",
    "  return [l.upper() for l in lista]"
   ]
  },
  {
   "cell_type": "code",
   "execution_count": null,
   "metadata": {
    "id": "lXTUeQH1qLXC"
   },
   "outputs": [],
   "source": [
    "lista = ['Edson', 'Maria', 'joão', 'pEdro', 'Ana Maria', 'Ana Beatriz']\n",
    "lista_ordenada = ordenaLista(lista)\n",
    "print(lista_ordenada)"
   ]
  },
  {
   "cell_type": "code",
   "execution_count": null,
   "metadata": {
    "colab": {
     "base_uri": "https://localhost:8080/"
    },
    "id": "UMl1akyNqOi3",
    "outputId": "39c6bee0-adde-4bea-cc35-8d5fe5b096dd"
   },
   "outputs": [],
   "source": [
    "for x in lista_ordenada:\n",
    "  print(x)"
   ]
  },
  {
   "cell_type": "code",
   "execution_count": null,
   "metadata": {
    "id": "CAZ04q70sCHa"
   },
   "outputs": [],
   "source": [
    "# Treinando\n",
    "# Criar duas funções que calculem:\n",
    "# 1 - A média de uma lista\n",
    "# 2 - A soma de uma lista, mostrando o número de itens contidos na lista ordenadamente (A-Z)\n",
    "# Tempo: 5 minutos (11:22)\n",
    "\n",
    "def media(lista):\n",
    "  return sum(lista) / len(lista)\n",
    "\n",
    "def soma(lista):\n",
    "  print(sum(lista))\n",
    "  print(len(lista))"
   ]
  },
  {
   "cell_type": "code",
   "execution_count": null,
   "metadata": {
    "id": "LRYYiVMWueJd"
   },
   "outputs": [],
   "source": [
    "def baskara(a, b, c):\n",
    "  delta = (b**2) - 4 * a * c\n",
    "\n",
    "  x1 = (-b + delta ** (1 / 2)) / (2 * a)\n",
    "  x2 = (-b - delta ** (1 / 2)) / (2 * a)\n",
    "\n",
    "  return (x1, x2)"
   ]
  },
  {
   "cell_type": "code",
   "execution_count": null,
   "metadata": {
    "colab": {
     "base_uri": "https://localhost:8080/"
    },
    "id": "DWHHNjS7u9xy",
    "outputId": "88a9a359-4658-4e06-c4f0-8facb515879f"
   },
   "outputs": [],
   "source": [
    "baskara(1, -10, 25)"
   ]
  }
 ],
 "metadata": {
  "colab": {
   "name": "Untitled4.ipynb",
   "provenance": []
  },
  "kernelspec": {
   "display_name": "Python 3",
   "language": "python",
   "name": "python3"
  },
  "language_info": {
   "codemirror_mode": {
    "name": "ipython",
    "version": 3
   },
   "file_extension": ".py",
   "mimetype": "text/x-python",
   "name": "python",
   "nbconvert_exporter": "python",
   "pygments_lexer": "ipython3",
   "version": "3.8.5"
  }
 },
 "nbformat": 4,
 "nbformat_minor": 4
}
