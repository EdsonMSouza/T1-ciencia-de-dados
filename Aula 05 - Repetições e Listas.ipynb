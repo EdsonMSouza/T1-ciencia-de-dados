{
  "nbformat": 4,
  "nbformat_minor": 0,
  "metadata": {
    "colab": {
      "name": "Untitled3.ipynb",
      "provenance": []
    },
    "kernelspec": {
      "name": "python3",
      "display_name": "Python 3"
    },
    "language_info": {
      "name": "python"
    }
  },
  "cells": [
    {
      "cell_type": "code",
      "metadata": {
        "id": "7y42jnHRHotk"
      },
      "source": [
        "# Dicas de exercícios: https://www.pythonprogressivo.net/2018/06/Lista-Exercicios-Lacos-Looping-Python.html\n",
        "\n",
        "# Laços de repetição e listas\n",
        "# Repetição -> é uma sucessão de tarefas até um determinado ponto de parada,\n",
        "# seguindo algum critério"
      ],
      "execution_count": null,
      "outputs": []
    },
    {
      "cell_type": "code",
      "metadata": {
        "id": "GS-ZzSpgK_2E"
      },
      "source": [
        "# A tabuada\n",
        "# Parâmetros da tabuada são:\n",
        "# 1 - qual a base da tabuada, ex. 2\n",
        "# 2 - Qual o parâmetro de parada, ex. 10\n",
        "# 2 x  1 = 2\n",
        "# 2 x  2 = 4\n",
        "# 2 x  3 = 4\n",
        "# 2 x 10 = 20\n",
        "# ou seja\n",
        "# base x indice = resultado"
      ],
      "execution_count": null,
      "outputs": []
    },
    {
      "cell_type": "code",
      "metadata": {
        "id": "3PnWs7ocLymy"
      },
      "source": [
        "# Laço conhecido como \"for\" ou \"para\"\n",
        "\n",
        "# A leitura abaixo é:\n",
        "# Para todas linhas em \"dados\", colocar cada linha em \"variavel\" até que termine os dados\n",
        "\n",
        "for variavel in range(1, 11): # range significa intervalo\n",
        "  print(variavel)"
      ],
      "execution_count": null,
      "outputs": []
    },
    {
      "cell_type": "code",
      "metadata": {
        "id": "E5bZ944uPBk5"
      },
      "source": [
        "# Tabuada\n",
        "for i in range(1, 11):\n",
        "  print('2 X', i, ' =', 2*i)"
      ],
      "execution_count": null,
      "outputs": []
    },
    {
      "cell_type": "code",
      "metadata": {
        "id": "hv1O90zxSYFn"
      },
      "source": [
        "# Tabuada\n",
        "for i in range(1, 11, 2):\n",
        "  print('2 X', i, ' =', 2*i)"
      ],
      "execution_count": null,
      "outputs": []
    },
    {
      "cell_type": "code",
      "metadata": {
        "id": "tQo56lUmP2-7"
      },
      "source": [
        "# 1 < 5 sim, então soma mais 1 = 2\n",
        "# 2 < 5 sim, então soma mais 1 = 3\n",
        "# 3 < 5 sim, então soma mais 1 = 4\n",
        "# 4 < 5 sim, então soma mais 1 = 5\n",
        "# 5 < 5 não, então para"
      ],
      "execution_count": null,
      "outputs": []
    },
    {
      "cell_type": "code",
      "metadata": {
        "id": "K-nSJkiGS77O"
      },
      "source": [
        "# Contar em ordem decrescente\n",
        "\n",
        "# 10 > 0, então diminui 1\n",
        "# 9  > 0\n",
        "# 8  > 0\n",
        "# 1  > 0, então diminui 1 => 0\n",
        "# 0  > 0 não, então para\n",
        "\n",
        "for i in range(10, 0, -1):\n",
        "  print(i, 'é maior que 0? | 2 X', i, ' =', 2*i)\n"
      ],
      "execution_count": null,
      "outputs": []
    },
    {
      "cell_type": "code",
      "metadata": {
        "id": "rFCQk5gBTMq6"
      },
      "source": [
        "for i in range(1, 21):\n",
        "  if ( (i % 2) == 0 ):\n",
        "    print(i, 'é par')"
      ],
      "execution_count": null,
      "outputs": []
    },
    {
      "cell_type": "code",
      "metadata": {
        "id": "WsZmPT6nWPQr"
      },
      "source": [
        "# Fazer um laço for que mostre somente os números ímpares do intervalo entre 1 e 50\n",
        "for i in range(2, 10):\n",
        "  if ( (i%2 != 0) ):\n",
        "    print(i, 'é ímpar')"
      ],
      "execution_count": null,
      "outputs": []
    },
    {
      "cell_type": "code",
      "metadata": {
        "id": "9Q5HAsLdXgVG"
      },
      "source": [
        "for i in range(2, 10, 2):\n",
        "  print(i, 'é ímpar')"
      ],
      "execution_count": null,
      "outputs": []
    },
    {
      "cell_type": "code",
      "metadata": {
        "id": "D6c7hK_2YMeo"
      },
      "source": [
        "for i in range(1, 51):\n",
        "  if ((i % 2) != 0):\n",
        "    print(i, 'é impar')"
      ],
      "execution_count": null,
      "outputs": []
    },
    {
      "cell_type": "code",
      "metadata": {
        "id": "hcAWJD2yYqep"
      },
      "source": [
        "# input() faz a leitura do teclado\n",
        "# Baseado em um número informado pelo usuário, apresentar a sua tabuada até 10\n",
        "\n",
        "n = int(input(\"Digite a tabuada: \"))\n",
        "for i in range(1, 11):\n",
        "  print(n, ' X', i, ' =', n*i)"
      ],
      "execution_count": null,
      "outputs": []
    },
    {
      "cell_type": "code",
      "metadata": {
        "id": "opFW56QxY0qI"
      },
      "source": [
        "# Baseado em um número informado pelo usuário, montar todas as tabuadas até o 10\n",
        "# do número informado, inclusive. Tempo: até 10:50\n",
        "\n",
        "n = int(input(\"Digite a tabuada: \"))\n",
        "for x in range(1, n+1): # esta linha controla o número de tabuadas\n",
        "  for i in range(1, 11):# aqui é gerada a tabuda\n",
        "    print(x, ' X', i, ' =', x*i) # mostra o resultado\n",
        "  print() # pular uma linha entre as tabuadas\n"
      ],
      "execution_count": null,
      "outputs": []
    },
    {
      "cell_type": "code",
      "metadata": {
        "colab": {
          "base_uri": "https://localhost:8080/"
        },
        "id": "jxhsXOpxgsF_",
        "outputId": "2edaeaca-5f69-4e39-9e71-bc9f8e3dbccf"
      },
      "source": [
        "# Listas (list)\n",
        "# Uma lista é determinada por um para de colchetes []\n",
        "\n",
        "# uma lista vazia\n",
        "lista = []\n",
        "\n",
        "# aqui temos uma lista de números, separados por vírgula\n",
        "lista = [1, 2, 3, 4, 5]\n",
        "print(lista) # a saída é um vetor ou array"
      ],
      "execution_count": 54,
      "outputs": [
        {
          "output_type": "stream",
          "text": [
            "[1, 2, 3, 4, 5]\n"
          ],
          "name": "stdout"
        }
      ]
    },
    {
      "cell_type": "code",
      "metadata": {
        "colab": {
          "base_uri": "https://localhost:8080/"
        },
        "id": "SLXjlhnnkc4s",
        "outputId": "a4b9aa5d-ffbc-48cb-b2a5-d3d76317a4e3"
      },
      "source": [
        "lista = [1, 2, 3, 4, 5]\n",
        "for i in lista: # aqui o laço \"percorre\" a lista\n",
        "  print(i)"
      ],
      "execution_count": 55,
      "outputs": [
        {
          "output_type": "stream",
          "text": [
            "1\n",
            "2\n",
            "3\n",
            "4\n",
            "5\n"
          ],
          "name": "stdout"
        }
      ]
    },
    {
      "cell_type": "code",
      "metadata": {
        "colab": {
          "base_uri": "https://localhost:8080/"
        },
        "id": "-qhwmLVtlADK",
        "outputId": "1224d1d3-d446-4c41-f284-709c326fce7b"
      },
      "source": [
        "# Mostra um país de cada vez contido na lista de países\n",
        "# posicção    0         1             2          3\n",
        "paises = ['Brasil', 'Argentina', 'Alemanha', 'Itália']\n",
        "#for pais in paises:\n",
        "#  print(pais)\n",
        "\n",
        "# mostra apenas um país\n",
        "print(paises[1]) # segundo item da lista\n",
        "print(paises[3]) # quarto item da lista"
      ],
      "execution_count": 60,
      "outputs": [
        {
          "output_type": "stream",
          "text": [
            "Argentina\n",
            "Itália\n"
          ],
          "name": "stdout"
        }
      ]
    },
    {
      "cell_type": "code",
      "metadata": {
        "id": "pw0ytGi0mQxM"
      },
      "source": [
        "jogos = ['GTA', 'FIFA', 'COD', 'CS', 'Raibow Six', 'Red Dead Redemption']\n",
        "for jogo in jogos:\n",
        "  print(jogo)"
      ],
      "execution_count": null,
      "outputs": []
    },
    {
      "cell_type": "code",
      "metadata": {
        "colab": {
          "base_uri": "https://localhost:8080/"
        },
        "id": "8BHK-95XoAub",
        "outputId": "d1c736ab-0f0d-4427-a691-13ac4eb47acd"
      },
      "source": [
        "times = ['CORINTHIANS', 'FLAMENGO', 'PALMEIRAS', 'SANTOS', 'SAO PAULO']\n",
        "for time in times:\n",
        "  print(time) #Mostra a lista em ordem\n",
        "\n",
        "#012345678910\n",
        "#CORINTHIANS\n",
        "print(times[1]) #1 Item da lista"
      ],
      "execution_count": 62,
      "outputs": [
        {
          "output_type": "stream",
          "text": [
            "CORINTHIANS\n",
            "FLAMENGO\n",
            "PALMEIRAS\n",
            "SANTOS\n",
            "SAO PAULO\n",
            "FLAMENGO\n"
          ],
          "name": "stdout"
        }
      ]
    },
    {
      "cell_type": "code",
      "metadata": {
        "id": "-J9mBd_ioyFA"
      },
      "source": [
        ""
      ],
      "execution_count": null,
      "outputs": []
    }
  ]
}