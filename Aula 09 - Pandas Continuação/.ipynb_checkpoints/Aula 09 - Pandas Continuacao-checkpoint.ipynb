{
 "cells": [
  {
   "cell_type": "code",
   "execution_count": null,
   "id": "smaller-minneapolis",
   "metadata": {},
   "outputs": [],
   "source": [
    "import pandas as pd"
   ]
  },
  {
   "cell_type": "code",
   "execution_count": null,
   "id": "invalid-reggae",
   "metadata": {},
   "outputs": [],
   "source": [
    "corona = pd.read_csv(\"covid_19_data.csv\")"
   ]
  },
  {
   "cell_type": "code",
   "execution_count": null,
   "id": "major-publication",
   "metadata": {},
   "outputs": [],
   "source": [
    "corona.info()"
   ]
  },
  {
   "cell_type": "code",
   "execution_count": null,
   "id": "northern-purchase",
   "metadata": {},
   "outputs": [],
   "source": [
    "corona.head()"
   ]
  },
  {
   "cell_type": "markdown",
   "id": "atmospheric-amazon",
   "metadata": {},
   "source": [
    "## Removendo Entradas\n",
    "\n",
    "Usando o [`pd.drop()`](https://pandas.pydata.org/pandas-docs/stable/reference/api/pandas.DataFrame.drop.html), se atentar com os argumentos:\n",
    "* `axis`: `0` para linhas `1` para colunas\n",
    "* `inplace`: `True` altera o *DataFrame* atual\n",
    "\n",
    "Vamos fazer uma análise global então removeremos as províncias/estados (coluna `Province/State`)"
   ]
  },
  {
   "cell_type": "code",
   "execution_count": null,
   "id": "western-microwave",
   "metadata": {},
   "outputs": [],
   "source": [
    "corona.drop(['Province/State'], axis=1, inplace=True)  # True ele altera o df\n",
    "corona.head()"
   ]
  },
  {
   "cell_type": "markdown",
   "id": "acknowledged-minnesota",
   "metadata": {},
   "source": [
    "## Lidando com dados faltantes (*missing values* `NA`)\n",
    "\n",
    "| Method         | Description                                                  |\n",
    "| -------------- | ------------------------------------------------------------ |\n",
    "| `df.dropna()`  | Filtra `NA`, selecionar linhas (`axis = 0`) ou selecionar colunas (`axis=1`) |\n",
    "| `df.fillna()`  | Preencher os `NA` com algum valor  |\n",
    "| `df.isnull()`  | Retorna os valores booleanos indicando quais valores são `NA` |"
   ]
  },
  {
   "cell_type": "code",
   "execution_count": null,
   "id": "mental-ivory",
   "metadata": {},
   "outputs": [],
   "source": [
    "corona"
   ]
  },
  {
   "cell_type": "code",
   "execution_count": null,
   "id": "operating-adolescent",
   "metadata": {},
   "outputs": [],
   "source": [
    "# filtra linhas com valores vazios - veja o total de linhas retornados\n",
    "corona.dropna(axis=0)"
   ]
  },
  {
   "cell_type": "code",
   "execution_count": null,
   "id": "irish-christianity",
   "metadata": {},
   "outputs": [],
   "source": [
    "# Retorna os valores booleanos indicando quais valores são NA\n",
    "corona.isnull()"
   ]
  },
  {
   "cell_type": "code",
   "execution_count": null,
   "id": "convenient-practitioner",
   "metadata": {},
   "outputs": [],
   "source": [
    "# Preenche NA com algum valor\n",
    "corona.fillna(0, inplace=True)\n",
    "corona"
   ]
  },
  {
   "cell_type": "markdown",
   "id": "dimensional-hollow",
   "metadata": {},
   "source": [
    "## Selecionando e Filtrando\n",
    "\n",
    "* `DataFrame['Coluna']` = retorna uma *Series*\n",
    "* `DataFrame[['Coluna']]` = retorna um *DataFrame*\n",
    "* `DataFrame[['Coluna_1, 'Coluna_2']]` = multíplas Colunas\n",
    "* `DataFrame.query()`\n",
    "\n",
    "Tanto para *DataFrame* quanto para *Series*\n",
    "\n",
    "* `.loc[]`\n",
    "* `.iloc[]`\n",
    "* `.where()`"
   ]
  },
  {
   "cell_type": "markdown",
   "id": "functioning-tulsa",
   "metadata": {},
   "source": [
    "# Fatiando"
   ]
  },
  {
   "cell_type": "code",
   "execution_count": null,
   "id": "uniform-forum",
   "metadata": {},
   "outputs": [],
   "source": [
    "# Fatiando com loc[]\n",
    "corona.loc[100:200]"
   ]
  },
  {
   "cell_type": "code",
   "execution_count": null,
   "id": "global-north",
   "metadata": {},
   "outputs": [],
   "source": [
    "# Fatiando com loc[]\n",
    "corona.loc[100:200, 'Country/Region':'Confirmed']"
   ]
  },
  {
   "cell_type": "code",
   "execution_count": null,
   "id": "large-destiny",
   "metadata": {},
   "outputs": [],
   "source": [
    "# Fatiando com iloc[]\n",
    "corona.iloc[100:200, :3]"
   ]
  },
  {
   "cell_type": "code",
   "execution_count": null,
   "id": "intermediate-premiere",
   "metadata": {},
   "outputs": [],
   "source": [
    "# Criando um subset com algumas variáveis (lista)\n",
    "variaveis = ['Country/Region', 'Confirmed', 'Deaths']\n",
    "corona[variaveis] "
   ]
  },
  {
   "cell_type": "markdown",
   "id": "intermediate-mattress",
   "metadata": {},
   "source": [
    "## Criando Novas Variáveis"
   ]
  },
  {
   "cell_type": "code",
   "execution_count": null,
   "id": "acquired-startup",
   "metadata": {},
   "outputs": [],
   "source": [
    "corona['Confirmed + Deaths'] = corona['Confirmed'] + corona['Deaths']\n",
    "corona.sample(3)"
   ]
  },
  {
   "cell_type": "code",
   "execution_count": null,
   "id": "painted-fitness",
   "metadata": {},
   "outputs": [],
   "source": [
    "corona['Death by Cases'] = corona['Deaths'] / corona['Confirmed']\n",
    "corona.sample(3)"
   ]
  },
  {
   "cell_type": "markdown",
   "id": "driven-dover",
   "metadata": {},
   "source": [
    "## Convertendo Valores\n",
    "\n",
    "* `.to_numeric()`\n",
    "* `.to_datetime()`\n",
    "* `.astype()`\n",
    "    - `'bool'`\n",
    "    - `'int64'`\n",
    "    - `'float64'`\n",
    "    - `'str'`\n",
    "    - `'category'`\n",
    "* `.replace()`"
   ]
  },
  {
   "cell_type": "code",
   "execution_count": null,
   "id": "sudden-spectrum",
   "metadata": {},
   "outputs": [],
   "source": [
    "corona.head()"
   ]
  },
  {
   "cell_type": "code",
   "execution_count": null,
   "id": "humanitarian-investigator",
   "metadata": {},
   "outputs": [],
   "source": [
    "corona['Country/Region'].replace('Mainland China', 'China', inplace=True)\n",
    "corona.head()"
   ]
  },
  {
   "cell_type": "code",
   "execution_count": null,
   "id": "fatty-apparel",
   "metadata": {},
   "outputs": [],
   "source": [
    "corona.info()"
   ]
  },
  {
   "cell_type": "code",
   "execution_count": null,
   "id": "engaging-duration",
   "metadata": {},
   "outputs": [],
   "source": [
    "corona['Last Update'] = pd.to_datetime(corona['Last Update'])"
   ]
  },
  {
   "cell_type": "code",
   "execution_count": null,
   "id": "going-seven",
   "metadata": {},
   "outputs": [],
   "source": [
    "corona.info()"
   ]
  },
  {
   "cell_type": "code",
   "execution_count": null,
   "id": "passive-spread",
   "metadata": {},
   "outputs": [],
   "source": [
    "# retornando uma Series\n",
    "corona['Country/Region']"
   ]
  },
  {
   "cell_type": "code",
   "execution_count": null,
   "id": "still-framework",
   "metadata": {},
   "outputs": [],
   "source": [
    "# retornando um DataFrame\n",
    "corona[['Country/Region']]"
   ]
  },
  {
   "cell_type": "code",
   "execution_count": null,
   "id": "painted-preference",
   "metadata": {},
   "outputs": [],
   "source": [
    "corona[['Country/Region', 'Confirmed']]"
   ]
  },
  {
   "cell_type": "code",
   "execution_count": null,
   "id": "eleven-steering",
   "metadata": {},
   "outputs": [],
   "source": [
    "# Filtrando e Retornando um DataFrame\n",
    "df_tmp = corona[corona['Confirmed'] >8e4]  # 8e4 é 8 com 4 zeros = 80,000\n",
    "df_novo = df_tmp.loc[9000:]\n",
    "df_novo.head()"
   ]
  },
  {
   "cell_type": "code",
   "execution_count": null,
   "id": "labeled-overall",
   "metadata": {},
   "outputs": [],
   "source": [
    "df_novo.plot().bar"
   ]
  },
  {
   "cell_type": "code",
   "execution_count": null,
   "id": "checked-mechanics",
   "metadata": {},
   "outputs": [],
   "source": [
    "# Filtrando variáveis qualitativas\n",
    "corona[corona['Country/Region'] == 'Brazil']"
   ]
  },
  {
   "cell_type": "code",
   "execution_count": null,
   "id": "wanted-grain",
   "metadata": {},
   "outputs": [],
   "source": [
    "# Filtrando e Retornando um DataFrame\n",
    "# 8e4 significa o número inteiro \"e\" número de zeros, ou seja, 8e4 = 80.000\n",
    "corona[(corona['Confirmed'] > 8e4) & (corona['Recovered'] > 1000)]"
   ]
  },
  {
   "cell_type": "code",
   "execution_count": null,
   "id": "processed-sociology",
   "metadata": {},
   "outputs": [],
   "source": [
    "# Filtrando e Retornando um DataFrame com .loc\n",
    "corona.loc[(corona['Confirmed'].between(8e4, 10e4, inclusive=False)) &\n",
    "           (corona['Recovered'].between(12e3, 20e3, inclusive=True))]"
   ]
  },
  {
   "cell_type": "code",
   "execution_count": null,
   "id": "careful-consortium",
   "metadata": {},
   "outputs": [],
   "source": [
    "# Filtrando e Retornando um DataFrame com df.where()\n",
    "corona.where(corona['Confirmed'] > 10e2)\n",
    "# Obs: se atente com os NaN"
   ]
  },
  {
   "cell_type": "code",
   "execution_count": null,
   "id": "statewide-lewis",
   "metadata": {},
   "outputs": [],
   "source": [
    "# Filtrando e Retornando um DataFrame com df.query()\n",
    "corona.query('Confirmed > 8e4')"
   ]
  },
  {
   "cell_type": "code",
   "execution_count": null,
   "id": "logical-gates",
   "metadata": {},
   "outputs": [],
   "source": [
    "# Filtrando e Retornando um DataFrame com df.query()\n",
    "corona.query('Confirmed > 8e4 & 10e3 < Recovered < 12e3')"
   ]
  },
  {
   "cell_type": "markdown",
   "id": "coordinate-belfast",
   "metadata": {},
   "source": [
    "## Removendo duplicados\n",
    "\n",
    "* `.unique()`: retorna valores únicos\n",
    "* `.duplicated()`: retorna `bool` para linhas duplicadas\n",
    "* `drop_duplicates()`: retorna *DataFrame* com linhas duplicadas removidas"
   ]
  },
  {
   "cell_type": "code",
   "execution_count": null,
   "id": "virgin-interval",
   "metadata": {},
   "outputs": [],
   "source": [
    "# Quantos países?\n",
    "len(corona['Country/Region'].unique())"
   ]
  },
  {
   "cell_type": "code",
   "execution_count": null,
   "id": "basic-chester",
   "metadata": {},
   "outputs": [],
   "source": [
    "# Quantos Duplicados?\n",
    "sum(corona.duplicated(subset=['Country/Region']))"
   ]
  },
  {
   "cell_type": "code",
   "execution_count": null,
   "id": "tested-wales",
   "metadata": {},
   "outputs": [],
   "source": [
    "corona.drop_duplicates(subset=['Country/Region'], keep='last', inplace=True)\n",
    "corona.head(3)\n",
    "#Obs: se atente ao index"
   ]
  },
  {
   "cell_type": "markdown",
   "id": "blocked-gabriel",
   "metadata": {},
   "source": [
    "## Ordenando e Rankeando\n",
    "\n",
    "* .sort_index()\n",
    "* .sort_values(): ordena de acordo com uma coluna\n",
    "* .rank(): computa ranks numéricos ($1$ à $n$)"
   ]
  },
  {
   "cell_type": "code",
   "execution_count": null,
   "id": "boring-honor",
   "metadata": {},
   "outputs": [],
   "source": [
    "corona.sort_values(by=['Recovered'], ascending=False).head(20)"
   ]
  },
  {
   "cell_type": "markdown",
   "id": "amateur-shell",
   "metadata": {},
   "source": [
    "---"
   ]
  },
  {
   "cell_type": "markdown",
   "id": "israeli-integrity",
   "metadata": {},
   "source": [
    "# Atividade\n",
    "\n",
    "Importar o arquivo `data/mtcars.csv`. É uma base de dados extraída da revista americana sobre carros *Motor Trend US* de 1974. Possui 32 carros(linhas) e 11 características (colunas)\n",
    "\n",
    "## Características\n",
    "* `mpg`: Milhas por Galão (consumo)\n",
    "* `cyl`: Número de cilíndros\n",
    "* `disp`: Cilindada (em polegada cúbica)\n",
    "* `hp`: Cavalos de Potência (HP)\n",
    "* `drat`: Relação do eixo traseiro\n",
    "* `wt`:\tPeso em (1,000 libras)\n",
    "* `qsec`: Tempo que atinge 400m (1/4 de milha)\n",
    "* `vs`: Motor (0 = Forma em V, 1 = Reto)\n",
    "* `am`: Transmissão (0 = Automático, 1 = Manual)\n",
    "* `gear`: Número de marchas\n",
    "* `carb`: Número de carburadores\n",
    "\n",
    "Use o `pd.read_csv()` para importar os dados, use o argumento `index_col=0` para que a primeira coluna (modelo) seja os índices do *DataFrame*"
   ]
  },
  {
   "cell_type": "code",
   "execution_count": null,
   "id": "dense-kinase",
   "metadata": {},
   "outputs": [],
   "source": [
    "# 1 - Importar os dados\n",
    "\n",
    "import pandas as pd\n",
    "mtcars = pd.read_csv(\"mtcars.csv\")"
   ]
  },
  {
   "cell_type": "code",
   "execution_count": null,
   "id": "sustained-repeat",
   "metadata": {},
   "outputs": [],
   "source": [
    "# 2 - # Inspeciona o *DataFrame* e veja se todas as variáveis possuem os valores apropriados.\n",
    "mtcars.info()"
   ]
  },
  {
   "cell_type": "markdown",
   "id": "interpreted-handling",
   "metadata": {},
   "source": [
    "## Ordenando\n",
    "\n",
    "Use o `.sort_values()` para ordenar o dataset descrescente em cavalos de potência (`hp`). Se atente ao **descrescente**\n",
    "\n",
    "Qual o carro com mais HP? Ele está muito mais a frente do segundo colocado?"
   ]
  },
  {
   "cell_type": "code",
   "execution_count": null,
   "id": "protecting-feeling",
   "metadata": {},
   "outputs": [],
   "source": [
    "mtcars.sort_values(\"hp\", ascending=False).head()"
   ]
  },
  {
   "cell_type": "markdown",
   "id": "miniature-draft",
   "metadata": {},
   "source": [
    "## Filtrando\n",
    "\n",
    "1. Crie um *DataFrame* somente com os carros automáticos e use o `.shape` e veja quantos carros são dentre os 32\n",
    "2. Crie um *DataFrame* somente com os carros que possuem motor em forma de V e use o `.shape` e veja quantos carros são dentre os 32"
   ]
  },
  {
   "cell_type": "code",
   "execution_count": null,
   "id": "hungarian-lounge",
   "metadata": {},
   "outputs": [],
   "source": [
    "# 1.\n",
    "# am - Transmissão (0 = Automático, 1 = Manual)\n",
    "automaticos = mtcars[mtcars['am'] == 1]\n",
    "automaticos.shape"
   ]
  },
  {
   "cell_type": "code",
   "execution_count": null,
   "id": "committed-wilderness",
   "metadata": {},
   "outputs": [],
   "source": [
    "# 2.\n",
    "# vs - Motor (0 = Forma em V, 1 = Reto)\n",
    "motor_reto = mtcars[mtcars['vs'] == 1]\n",
    "motor_reto.shape"
   ]
  },
  {
   "cell_type": "markdown",
   "id": "complex-replacement",
   "metadata": {},
   "source": [
    "## Selecionando aleatoriamente uma amostra do `mtcars`\n",
    "\n",
    "1. Use o `.sample()` para selecionar aleatoriamente uma amostra de 10 carros."
   ]
  },
  {
   "cell_type": "code",
   "execution_count": null,
   "id": "competitive-robin",
   "metadata": {},
   "outputs": [],
   "source": [
    "mtcars.sample(10)"
   ]
  }
 ],
 "metadata": {
  "kernelspec": {
   "display_name": "Python 3",
   "language": "python",
   "name": "python3"
  },
  "language_info": {
   "codemirror_mode": {
    "name": "ipython",
    "version": 3
   },
   "file_extension": ".py",
   "mimetype": "text/x-python",
   "name": "python",
   "nbconvert_exporter": "python",
   "pygments_lexer": "ipython3",
   "version": "3.8.5"
  }
 },
 "nbformat": 4,
 "nbformat_minor": 5
}
