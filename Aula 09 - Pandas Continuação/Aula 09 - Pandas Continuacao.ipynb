{
 "cells": [
  {
   "cell_type": "code",
   "execution_count": 11,
   "id": "closed-princess",
   "metadata": {},
   "outputs": [],
   "source": [
    "import pandas as pd"
   ]
  },
  {
   "cell_type": "code",
   "execution_count": 12,
   "id": "graduate-suggestion",
   "metadata": {},
   "outputs": [],
   "source": [
    "corona = pd.read_csv(\"covid_19_data.csv\")"
   ]
  },
  {
   "cell_type": "code",
   "execution_count": null,
   "id": "waiting-binding",
   "metadata": {},
   "outputs": [],
   "source": [
    "corona.info()"
   ]
  },
  {
   "cell_type": "code",
   "execution_count": 3,
   "id": "collaborative-metro",
   "metadata": {},
   "outputs": [
    {
     "data": {
      "text/html": [
       "<div>\n",
       "<style scoped>\n",
       "    .dataframe tbody tr th:only-of-type {\n",
       "        vertical-align: middle;\n",
       "    }\n",
       "\n",
       "    .dataframe tbody tr th {\n",
       "        vertical-align: top;\n",
       "    }\n",
       "\n",
       "    .dataframe thead th {\n",
       "        text-align: right;\n",
       "    }\n",
       "</style>\n",
       "<table border=\"1\" class=\"dataframe\">\n",
       "  <thead>\n",
       "    <tr style=\"text-align: right;\">\n",
       "      <th></th>\n",
       "      <th>SNo</th>\n",
       "      <th>ObservationDate</th>\n",
       "      <th>Province/State</th>\n",
       "      <th>Country/Region</th>\n",
       "      <th>Last Update</th>\n",
       "      <th>Confirmed</th>\n",
       "      <th>Deaths</th>\n",
       "      <th>Recovered</th>\n",
       "    </tr>\n",
       "  </thead>\n",
       "  <tbody>\n",
       "    <tr>\n",
       "      <th>0</th>\n",
       "      <td>1</td>\n",
       "      <td>01/22/2020</td>\n",
       "      <td>Anhui</td>\n",
       "      <td>Mainland China</td>\n",
       "      <td>1/22/2020 17:00</td>\n",
       "      <td>1.0</td>\n",
       "      <td>0.0</td>\n",
       "      <td>0.0</td>\n",
       "    </tr>\n",
       "    <tr>\n",
       "      <th>1</th>\n",
       "      <td>2</td>\n",
       "      <td>01/22/2020</td>\n",
       "      <td>Beijing</td>\n",
       "      <td>Mainland China</td>\n",
       "      <td>1/22/2020 17:00</td>\n",
       "      <td>14.0</td>\n",
       "      <td>0.0</td>\n",
       "      <td>0.0</td>\n",
       "    </tr>\n",
       "    <tr>\n",
       "      <th>2</th>\n",
       "      <td>3</td>\n",
       "      <td>01/22/2020</td>\n",
       "      <td>Chongqing</td>\n",
       "      <td>Mainland China</td>\n",
       "      <td>1/22/2020 17:00</td>\n",
       "      <td>6.0</td>\n",
       "      <td>0.0</td>\n",
       "      <td>0.0</td>\n",
       "    </tr>\n",
       "    <tr>\n",
       "      <th>3</th>\n",
       "      <td>4</td>\n",
       "      <td>01/22/2020</td>\n",
       "      <td>Fujian</td>\n",
       "      <td>Mainland China</td>\n",
       "      <td>1/22/2020 17:00</td>\n",
       "      <td>1.0</td>\n",
       "      <td>0.0</td>\n",
       "      <td>0.0</td>\n",
       "    </tr>\n",
       "    <tr>\n",
       "      <th>4</th>\n",
       "      <td>5</td>\n",
       "      <td>01/22/2020</td>\n",
       "      <td>Gansu</td>\n",
       "      <td>Mainland China</td>\n",
       "      <td>1/22/2020 17:00</td>\n",
       "      <td>0.0</td>\n",
       "      <td>0.0</td>\n",
       "      <td>0.0</td>\n",
       "    </tr>\n",
       "  </tbody>\n",
       "</table>\n",
       "</div>"
      ],
      "text/plain": [
       "   SNo ObservationDate Province/State  Country/Region      Last Update  \\\n",
       "0    1      01/22/2020          Anhui  Mainland China  1/22/2020 17:00   \n",
       "1    2      01/22/2020        Beijing  Mainland China  1/22/2020 17:00   \n",
       "2    3      01/22/2020      Chongqing  Mainland China  1/22/2020 17:00   \n",
       "3    4      01/22/2020         Fujian  Mainland China  1/22/2020 17:00   \n",
       "4    5      01/22/2020          Gansu  Mainland China  1/22/2020 17:00   \n",
       "\n",
       "   Confirmed  Deaths  Recovered  \n",
       "0        1.0     0.0        0.0  \n",
       "1       14.0     0.0        0.0  \n",
       "2        6.0     0.0        0.0  \n",
       "3        1.0     0.0        0.0  \n",
       "4        0.0     0.0        0.0  "
      ]
     },
     "execution_count": 3,
     "metadata": {},
     "output_type": "execute_result"
    }
   ],
   "source": [
    "corona.head()"
   ]
  },
  {
   "cell_type": "code",
   "execution_count": 7,
   "id": "structured-court",
   "metadata": {},
   "outputs": [],
   "source": [
    "corona['Last Update'] = pd.to_datetime(corona['Last Update'])"
   ]
  },
  {
   "cell_type": "code",
   "execution_count": 8,
   "id": "protected-former",
   "metadata": {},
   "outputs": [
    {
     "data": {
      "text/html": [
       "<div>\n",
       "<style scoped>\n",
       "    .dataframe tbody tr th:only-of-type {\n",
       "        vertical-align: middle;\n",
       "    }\n",
       "\n",
       "    .dataframe tbody tr th {\n",
       "        vertical-align: top;\n",
       "    }\n",
       "\n",
       "    .dataframe thead th {\n",
       "        text-align: right;\n",
       "    }\n",
       "</style>\n",
       "<table border=\"1\" class=\"dataframe\">\n",
       "  <thead>\n",
       "    <tr style=\"text-align: right;\">\n",
       "      <th></th>\n",
       "      <th>SNo</th>\n",
       "      <th>ObservationDate</th>\n",
       "      <th>Province/State</th>\n",
       "      <th>Country/Region</th>\n",
       "      <th>Last Update</th>\n",
       "      <th>Confirmed</th>\n",
       "      <th>Deaths</th>\n",
       "      <th>Recovered</th>\n",
       "    </tr>\n",
       "  </thead>\n",
       "  <tbody>\n",
       "    <tr>\n",
       "      <th>285306</th>\n",
       "      <td>285307</td>\n",
       "      <td>05/02/2021</td>\n",
       "      <td>Zuid-Holland</td>\n",
       "      <td>Netherlands</td>\n",
       "      <td>2021-05-03 04:20:39</td>\n",
       "      <td>359327.0</td>\n",
       "      <td>4138.0</td>\n",
       "      <td>0.0</td>\n",
       "    </tr>\n",
       "    <tr>\n",
       "      <th>284793</th>\n",
       "      <td>284794</td>\n",
       "      <td>05/02/2021</td>\n",
       "      <td>Campania</td>\n",
       "      <td>Italy</td>\n",
       "      <td>2021-05-03 04:20:39</td>\n",
       "      <td>395094.0</td>\n",
       "      <td>6416.0</td>\n",
       "      <td>297441.0</td>\n",
       "    </tr>\n",
       "    <tr>\n",
       "      <th>284802</th>\n",
       "      <td>284803</td>\n",
       "      <td>05/02/2021</td>\n",
       "      <td>Catalonia</td>\n",
       "      <td>Spain</td>\n",
       "      <td>2021-05-03 04:20:39</td>\n",
       "      <td>585069.0</td>\n",
       "      <td>14149.0</td>\n",
       "      <td>26203.0</td>\n",
       "    </tr>\n",
       "    <tr>\n",
       "      <th>284801</th>\n",
       "      <td>284802</td>\n",
       "      <td>05/02/2021</td>\n",
       "      <td>Castilla y Leon</td>\n",
       "      <td>Spain</td>\n",
       "      <td>2021-05-03 04:20:39</td>\n",
       "      <td>223100.0</td>\n",
       "      <td>6754.0</td>\n",
       "      <td>8716.0</td>\n",
       "    </tr>\n",
       "    <tr>\n",
       "      <th>284800</th>\n",
       "      <td>284801</td>\n",
       "      <td>05/02/2021</td>\n",
       "      <td>Castilla - La Mancha</td>\n",
       "      <td>Spain</td>\n",
       "      <td>2021-05-03 04:20:39</td>\n",
       "      <td>185354.0</td>\n",
       "      <td>5851.0</td>\n",
       "      <td>6392.0</td>\n",
       "    </tr>\n",
       "  </tbody>\n",
       "</table>\n",
       "</div>"
      ],
      "text/plain": [
       "           SNo ObservationDate        Province/State Country/Region  \\\n",
       "285306  285307      05/02/2021          Zuid-Holland    Netherlands   \n",
       "284793  284794      05/02/2021              Campania          Italy   \n",
       "284802  284803      05/02/2021             Catalonia          Spain   \n",
       "284801  284802      05/02/2021       Castilla y Leon          Spain   \n",
       "284800  284801      05/02/2021  Castilla - La Mancha          Spain   \n",
       "\n",
       "               Last Update  Confirmed   Deaths  Recovered  \n",
       "285306 2021-05-03 04:20:39   359327.0   4138.0        0.0  \n",
       "284793 2021-05-03 04:20:39   395094.0   6416.0   297441.0  \n",
       "284802 2021-05-03 04:20:39   585069.0  14149.0    26203.0  \n",
       "284801 2021-05-03 04:20:39   223100.0   6754.0     8716.0  \n",
       "284800 2021-05-03 04:20:39   185354.0   5851.0     6392.0  "
      ]
     },
     "execution_count": 8,
     "metadata": {},
     "output_type": "execute_result"
    }
   ],
   "source": [
    "corona.sort_values(\"Last Update\", ascending=False).head()"
   ]
  },
  {
   "cell_type": "markdown",
   "id": "average-amendment",
   "metadata": {},
   "source": [
    "## Removendo Entradas\n",
    "\n",
    "Usando o [`pd.drop()`](https://pandas.pydata.org/pandas-docs/stable/reference/api/pandas.DataFrame.drop.html), se atentar com os argumentos:\n",
    "* `axis`: `0` para linhas `1` para colunas\n",
    "* `inplace`: `True` altera o *DataFrame* atual\n",
    "\n",
    "Vamos fazer uma análise global então removeremos as províncias/estados (coluna `Province/State`)"
   ]
  },
  {
   "cell_type": "code",
   "execution_count": null,
   "id": "actual-snowboard",
   "metadata": {},
   "outputs": [],
   "source": [
    "corona.drop(['Province/State'], axis=1, inplace=True)  # True ele altera o df\n",
    "corona.head()"
   ]
  },
  {
   "cell_type": "markdown",
   "id": "advisory-darkness",
   "metadata": {},
   "source": [
    "## Lidando com dados faltantes (*missing values* `NA`)\n",
    "\n",
    "| Method         | Description                                                  |\n",
    "| -------------- | ------------------------------------------------------------ |\n",
    "| `df.dropna()`  | Filtra `NA`, selecionar linhas (`axis = 0`) ou selecionar colunas (`axis=1`) |\n",
    "| `df.fillna()`  | Preencher os `NA` com algum valor  |\n",
    "| `df.isnull()`  | Retorna os valores booleanos indicando quais valores são `NA` |"
   ]
  },
  {
   "cell_type": "code",
   "execution_count": null,
   "id": "heavy-roads",
   "metadata": {},
   "outputs": [],
   "source": [
    "corona"
   ]
  },
  {
   "cell_type": "code",
   "execution_count": null,
   "id": "random-attachment",
   "metadata": {},
   "outputs": [],
   "source": [
    "# filtra linhas com valores vazios - veja o total de linhas retornados\n",
    "corona.dropna(axis=0)"
   ]
  },
  {
   "cell_type": "code",
   "execution_count": null,
   "id": "intense-infection",
   "metadata": {},
   "outputs": [],
   "source": [
    "# Retorna os valores booleanos indicando quais valores são NA\n",
    "corona.isnull()"
   ]
  },
  {
   "cell_type": "code",
   "execution_count": null,
   "id": "gorgeous-phone",
   "metadata": {},
   "outputs": [],
   "source": [
    "# Preenche NA com algum valor\n",
    "corona.fillna(0, inplace=True)\n",
    "corona"
   ]
  },
  {
   "cell_type": "markdown",
   "id": "intended-shooting",
   "metadata": {},
   "source": [
    "## Selecionando e Filtrando\n",
    "\n",
    "* `DataFrame['Coluna']` = retorna uma *Series*\n",
    "* `DataFrame[['Coluna']]` = retorna um *DataFrame*\n",
    "* `DataFrame[['Coluna_1, 'Coluna_2']]` = multíplas Colunas\n",
    "* `DataFrame.query()`\n",
    "\n",
    "Tanto para *DataFrame* quanto para *Series*\n",
    "\n",
    "* `.loc[]`\n",
    "* `.iloc[]`\n",
    "* `.where()`"
   ]
  },
  {
   "cell_type": "markdown",
   "id": "fleet-hawaiian",
   "metadata": {},
   "source": [
    "# Fatiando"
   ]
  },
  {
   "cell_type": "code",
   "execution_count": null,
   "id": "norwegian-potato",
   "metadata": {},
   "outputs": [],
   "source": [
    "# Fatiando com loc[]\n",
    "corona.loc[100:200]"
   ]
  },
  {
   "cell_type": "code",
   "execution_count": null,
   "id": "brave-direction",
   "metadata": {},
   "outputs": [],
   "source": [
    "# Fatiando com loc[]\n",
    "corona.loc[100:200, 'Country/Region':'Confirmed']"
   ]
  },
  {
   "cell_type": "code",
   "execution_count": null,
   "id": "short-clock",
   "metadata": {},
   "outputs": [],
   "source": [
    "# Fatiando com iloc[]\n",
    "corona.iloc[100:200, :3]"
   ]
  },
  {
   "cell_type": "code",
   "execution_count": null,
   "id": "guilty-emerald",
   "metadata": {},
   "outputs": [],
   "source": [
    "# Criando um subset com algumas variáveis (lista)\n",
    "variaveis = ['Country/Region', 'Confirmed', 'Deaths']\n",
    "corona[variaveis] "
   ]
  },
  {
   "cell_type": "markdown",
   "id": "sapphire-munich",
   "metadata": {},
   "source": [
    "## Criando Novas Variáveis"
   ]
  },
  {
   "cell_type": "code",
   "execution_count": null,
   "id": "corporate-composition",
   "metadata": {},
   "outputs": [],
   "source": [
    "corona['Confirmed + Deaths'] = corona['Confirmed'] + corona['Deaths']\n",
    "corona.sample(3)"
   ]
  },
  {
   "cell_type": "code",
   "execution_count": null,
   "id": "nuclear-attribute",
   "metadata": {},
   "outputs": [],
   "source": [
    "corona['Death by Cases'] = corona['Deaths'] / corona['Confirmed']\n",
    "corona.sample(3)"
   ]
  },
  {
   "cell_type": "markdown",
   "id": "adjusted-thesaurus",
   "metadata": {},
   "source": [
    "## Convertendo Valores\n",
    "\n",
    "* `.to_numeric()`\n",
    "* `.to_datetime()`\n",
    "* `.astype()`\n",
    "    - `'bool'`\n",
    "    - `'int64'`\n",
    "    - `'float64'`\n",
    "    - `'str'`\n",
    "    - `'category'`\n",
    "* `.replace()`"
   ]
  },
  {
   "cell_type": "code",
   "execution_count": null,
   "id": "pointed-convention",
   "metadata": {},
   "outputs": [],
   "source": [
    "corona.head()"
   ]
  },
  {
   "cell_type": "code",
   "execution_count": null,
   "id": "attended-track",
   "metadata": {},
   "outputs": [],
   "source": [
    "corona['Country/Region'].replace('Mainland China', 'China', inplace=True)\n",
    "corona.head()"
   ]
  },
  {
   "cell_type": "code",
   "execution_count": null,
   "id": "every-burner",
   "metadata": {},
   "outputs": [],
   "source": [
    "corona.info()"
   ]
  },
  {
   "cell_type": "code",
   "execution_count": null,
   "id": "advanced-federation",
   "metadata": {},
   "outputs": [],
   "source": [
    "corona['Last Update'] = pd.to_datetime(corona['Last Update'])"
   ]
  },
  {
   "cell_type": "code",
   "execution_count": null,
   "id": "printable-continent",
   "metadata": {},
   "outputs": [],
   "source": [
    "corona.info()"
   ]
  },
  {
   "cell_type": "code",
   "execution_count": null,
   "id": "integrated-representative",
   "metadata": {},
   "outputs": [],
   "source": [
    "# retornando uma Series\n",
    "corona['Country/Region']"
   ]
  },
  {
   "cell_type": "code",
   "execution_count": null,
   "id": "greater-cigarette",
   "metadata": {},
   "outputs": [],
   "source": [
    "# retornando um DataFrame\n",
    "corona[['Country/Region']]"
   ]
  },
  {
   "cell_type": "code",
   "execution_count": null,
   "id": "iraqi-december",
   "metadata": {},
   "outputs": [],
   "source": [
    "corona[['Country/Region', 'Confirmed']]"
   ]
  },
  {
   "cell_type": "code",
   "execution_count": null,
   "id": "vocal-banks",
   "metadata": {},
   "outputs": [],
   "source": [
    "# Filtrando e Retornando um DataFrame\n",
    "df_tmp = corona[corona['Confirmed'] >8e4]  # 8e4 é 8 com 4 zeros = 80,000\n",
    "df_novo = df_tmp.loc[9000:]\n",
    "df_novo.head()"
   ]
  },
  {
   "cell_type": "code",
   "execution_count": null,
   "id": "greatest-enclosure",
   "metadata": {},
   "outputs": [],
   "source": [
    "df_novo.plot().bar"
   ]
  },
  {
   "cell_type": "code",
   "execution_count": null,
   "id": "executive-canyon",
   "metadata": {},
   "outputs": [],
   "source": [
    "# Filtrando variáveis qualitativas\n",
    "corona[corona['Country/Region'] == 'Brazil']"
   ]
  },
  {
   "cell_type": "code",
   "execution_count": null,
   "id": "secondary-vietnam",
   "metadata": {},
   "outputs": [],
   "source": [
    "# Filtrando e Retornando um DataFrame\n",
    "# 8e4 significa o número inteiro \"e\" número de zeros, ou seja, 8e4 = 80.000\n",
    "corona[(corona['Confirmed'] > 8e4) & (corona['Recovered'] > 1000)]"
   ]
  },
  {
   "cell_type": "code",
   "execution_count": null,
   "id": "placed-giant",
   "metadata": {},
   "outputs": [],
   "source": [
    "# Filtrando e Retornando um DataFrame com .loc\n",
    "corona.loc[(corona['Confirmed'].between(8e4, 10e4, inclusive=False)) &\n",
    "           (corona['Recovered'].between(12e3, 20e3, inclusive=True))]"
   ]
  },
  {
   "cell_type": "code",
   "execution_count": null,
   "id": "subject-torture",
   "metadata": {},
   "outputs": [],
   "source": [
    "# Filtrando e Retornando um DataFrame com df.where()\n",
    "corona.where(corona['Confirmed'] > 10e2)\n",
    "# Obs: se atente com os NaN"
   ]
  },
  {
   "cell_type": "code",
   "execution_count": null,
   "id": "supposed-tactics",
   "metadata": {},
   "outputs": [],
   "source": [
    "# Filtrando e Retornando um DataFrame com df.query()\n",
    "corona.query('Confirmed > 8e4')"
   ]
  },
  {
   "cell_type": "code",
   "execution_count": null,
   "id": "subtle-connection",
   "metadata": {},
   "outputs": [],
   "source": [
    "# Filtrando e Retornando um DataFrame com df.query()\n",
    "corona.query('Confirmed > 8e4 & 10e3 < Recovered < 12e3')"
   ]
  },
  {
   "cell_type": "markdown",
   "id": "ranging-classics",
   "metadata": {},
   "source": [
    "## Removendo duplicados\n",
    "\n",
    "* `.unique()`: retorna valores únicos\n",
    "* `.duplicated()`: retorna `bool` para linhas duplicadas\n",
    "* `drop_duplicates()`: retorna *DataFrame* com linhas duplicadas removidas"
   ]
  },
  {
   "cell_type": "code",
   "execution_count": null,
   "id": "athletic-karen",
   "metadata": {},
   "outputs": [],
   "source": [
    "# Quantos países?\n",
    "len(corona['Country/Region'].unique())"
   ]
  },
  {
   "cell_type": "code",
   "execution_count": 17,
   "id": "suffering-produce",
   "metadata": {},
   "outputs": [
    {
     "data": {
      "text/plain": [
       "285079"
      ]
     },
     "execution_count": 17,
     "metadata": {},
     "output_type": "execute_result"
    }
   ],
   "source": [
    "# Quantos Duplicados?\n",
    "sum(corona.duplicated(subset=['Country/Region']))"
   ]
  },
  {
   "cell_type": "code",
   "execution_count": 18,
   "id": "comparable-bumper",
   "metadata": {},
   "outputs": [
    {
     "data": {
      "text/html": [
       "<div>\n",
       "<style scoped>\n",
       "    .dataframe tbody tr th:only-of-type {\n",
       "        vertical-align: middle;\n",
       "    }\n",
       "\n",
       "    .dataframe tbody tr th {\n",
       "        vertical-align: top;\n",
       "    }\n",
       "\n",
       "    .dataframe thead th {\n",
       "        text-align: right;\n",
       "    }\n",
       "</style>\n",
       "<table border=\"1\" class=\"dataframe\">\n",
       "  <thead>\n",
       "    <tr style=\"text-align: right;\">\n",
       "      <th></th>\n",
       "      <th>SNo</th>\n",
       "      <th>ObservationDate</th>\n",
       "      <th>Province/State</th>\n",
       "      <th>Country/Region</th>\n",
       "      <th>Last Update</th>\n",
       "      <th>Confirmed</th>\n",
       "      <th>Deaths</th>\n",
       "      <th>Recovered</th>\n",
       "    </tr>\n",
       "  </thead>\n",
       "  <tbody>\n",
       "    <tr>\n",
       "      <th>2700</th>\n",
       "      <td>2701</td>\n",
       "      <td>02/28/2020</td>\n",
       "      <td>NaN</td>\n",
       "      <td>Azerbaijan</td>\n",
       "      <td>2020-02-28T15:03:26</td>\n",
       "      <td>1.0</td>\n",
       "      <td>0.0</td>\n",
       "      <td>0.0</td>\n",
       "    </tr>\n",
       "    <tr>\n",
       "      <th>2721</th>\n",
       "      <td>2722</td>\n",
       "      <td>02/28/2020</td>\n",
       "      <td>NaN</td>\n",
       "      <td>North Ireland</td>\n",
       "      <td>2020-02-28T05:43:02</td>\n",
       "      <td>1.0</td>\n",
       "      <td>0.0</td>\n",
       "      <td>0.0</td>\n",
       "    </tr>\n",
       "    <tr>\n",
       "      <th>4112</th>\n",
       "      <td>4113</td>\n",
       "      <td>03/08/2020</td>\n",
       "      <td>NaN</td>\n",
       "      <td>Republic of Ireland</td>\n",
       "      <td>2020-03-08T21:03:03</td>\n",
       "      <td>21.0</td>\n",
       "      <td>0.0</td>\n",
       "      <td>0.0</td>\n",
       "    </tr>\n",
       "  </tbody>\n",
       "</table>\n",
       "</div>"
      ],
      "text/plain": [
       "       SNo ObservationDate Province/State       Country/Region  \\\n",
       "2700  2701      02/28/2020            NaN           Azerbaijan   \n",
       "2721  2722      02/28/2020            NaN        North Ireland   \n",
       "4112  4113      03/08/2020            NaN  Republic of Ireland   \n",
       "\n",
       "              Last Update  Confirmed  Deaths  Recovered  \n",
       "2700  2020-02-28T15:03:26        1.0     0.0        0.0  \n",
       "2721  2020-02-28T05:43:02        1.0     0.0        0.0  \n",
       "4112  2020-03-08T21:03:03       21.0     0.0        0.0  "
      ]
     },
     "execution_count": 18,
     "metadata": {},
     "output_type": "execute_result"
    }
   ],
   "source": [
    "corona.drop_duplicates(subset=['Country/Region'], keep='last', inplace=True)\n",
    "corona.head(3)\n",
    "#Obs: se atente ao index"
   ]
  },
  {
   "cell_type": "markdown",
   "id": "regulated-verification",
   "metadata": {},
   "source": [
    "## Ordenando e Rankeando\n",
    "\n",
    "* .sort_index()\n",
    "* .sort_values(): ordena de acordo com uma coluna\n",
    "* .rank(): computa ranks numéricos ($1$ à $n$)"
   ]
  },
  {
   "cell_type": "code",
   "execution_count": null,
   "id": "answering-schedule",
   "metadata": {},
   "outputs": [],
   "source": [
    "corona.sort_values(by=['Recovered'], ascending=False).head(20)"
   ]
  },
  {
   "cell_type": "markdown",
   "id": "swedish-toilet",
   "metadata": {},
   "source": [
    "---"
   ]
  },
  {
   "cell_type": "markdown",
   "id": "transparent-bookmark",
   "metadata": {},
   "source": [
    "# Atividade\n",
    "\n",
    "Importar o arquivo `data/mtcars.csv`. É uma base de dados extraída da revista americana sobre carros *Motor Trend US* de 1974. Possui 32 carros(linhas) e 11 características (colunas)\n",
    "\n",
    "## Características\n",
    "* `mpg`: Milhas por Galão (consumo)\n",
    "* `cyl`: Número de cilíndros\n",
    "* `disp`: Cilindada (em polegada cúbica)\n",
    "* `hp`: Cavalos de Potência (HP)\n",
    "* `drat`: Relação do eixo traseiro\n",
    "* `wt`:\tPeso em (1,000 libras)\n",
    "* `qsec`: Tempo que atinge 400m (1/4 de milha)\n",
    "* `vs`: Motor (0 = Forma em V, 1 = Reto)\n",
    "* `am`: Transmissão (0 = Automático, 1 = Manual)\n",
    "* `gear`: Número de marchas\n",
    "* `carb`: Número de carburadores\n",
    "\n",
    "Use o `pd.read_csv()` para importar os dados, use o argumento `index_col=0` para que a primeira coluna (modelo) seja os índices do *DataFrame*"
   ]
  },
  {
   "cell_type": "code",
   "execution_count": null,
   "id": "excess-madison",
   "metadata": {},
   "outputs": [],
   "source": [
    "# 1 - Importar os dados\n",
    "\n",
    "import pandas as pd\n",
    "mtcars = pd.read_csv(\"mtcars.csv\")"
   ]
  },
  {
   "cell_type": "code",
   "execution_count": null,
   "id": "differential-parameter",
   "metadata": {},
   "outputs": [],
   "source": [
    "# 2 - # Inspeciona o *DataFrame* e veja se todas as variáveis possuem os valores apropriados.\n",
    "mtcars.info()"
   ]
  },
  {
   "cell_type": "markdown",
   "id": "hairy-colony",
   "metadata": {},
   "source": [
    "## Ordenando\n",
    "\n",
    "Use o `.sort_values()` para ordenar o dataset descrescente em cavalos de potência (`hp`). Se atente ao **descrescente**\n",
    "\n",
    "Qual o carro com mais HP? Ele está muito mais a frente do segundo colocado?"
   ]
  },
  {
   "cell_type": "code",
   "execution_count": null,
   "id": "compressed-introduction",
   "metadata": {},
   "outputs": [],
   "source": [
    "mtcars.sort_values(\"hp\", ascending=False).head()"
   ]
  },
  {
   "cell_type": "markdown",
   "id": "under-respect",
   "metadata": {},
   "source": [
    "## Filtrando\n",
    "\n",
    "1. Crie um *DataFrame* somente com os carros automáticos e use o `.shape` e veja quantos carros são dentre os 32\n",
    "2. Crie um *DataFrame* somente com os carros que possuem motor em forma de V e use o `.shape` e veja quantos carros são dentre os 32"
   ]
  },
  {
   "cell_type": "code",
   "execution_count": null,
   "id": "willing-amateur",
   "metadata": {},
   "outputs": [],
   "source": [
    "# 1.\n",
    "# am - Transmissão (0 = Automático, 1 = Manual)\n",
    "automaticos = mtcars[mtcars['am'] == 1]\n",
    "automaticos.shape"
   ]
  },
  {
   "cell_type": "code",
   "execution_count": null,
   "id": "typical-lying",
   "metadata": {},
   "outputs": [],
   "source": [
    "# 2.\n",
    "# vs - Motor (0 = Forma em V, 1 = Reto)\n",
    "motor_reto = mtcars[mtcars['vs'] == 1]\n",
    "motor_reto.shape"
   ]
  },
  {
   "cell_type": "markdown",
   "id": "crucial-religious",
   "metadata": {},
   "source": [
    "## Selecionando aleatoriamente uma amostra do `mtcars`\n",
    "\n",
    "1. Use o `.sample()` para selecionar aleatoriamente uma amostra de 10 carros."
   ]
  },
  {
   "cell_type": "code",
   "execution_count": null,
   "id": "reserved-welsh",
   "metadata": {},
   "outputs": [],
   "source": [
    "mtcars.sample(10)"
   ]
  },
  {
   "cell_type": "code",
   "execution_count": null,
   "id": "changed-rochester",
   "metadata": {},
   "outputs": [],
   "source": []
  }
 ],
 "metadata": {
  "kernelspec": {
   "display_name": "Python 3",
   "language": "python",
   "name": "python3"
  },
  "language_info": {
   "codemirror_mode": {
    "name": "ipython",
    "version": 3
   },
   "file_extension": ".py",
   "mimetype": "text/x-python",
   "name": "python",
   "nbconvert_exporter": "python",
   "pygments_lexer": "ipython3",
   "version": "3.8.5"
  }
 },
 "nbformat": 4,
 "nbformat_minor": 5
}
